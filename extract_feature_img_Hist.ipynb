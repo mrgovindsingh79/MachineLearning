{
 "cells": [
  {
   "cell_type": "code",
   "execution_count": 4,
   "metadata": {},
   "outputs": [
    {
     "name": "stdout",
     "output_type": "stream",
     "text": [
      "[array([132, 144, 148], dtype=uint8), array([119, 135, 148], dtype=uint8), array([136, 143, 132], dtype=uint8), array([123, 120, 101], dtype=uint8), array([143, 131, 126], dtype=uint8), array([119, 145, 154], dtype=uint8), array([127, 123, 114], dtype=uint8), array([ 82, 116, 117], dtype=uint8), array([128, 122, 127], dtype=uint8), array([89, 97, 65], dtype=uint8), array([151, 152, 152], dtype=uint8), array([170, 169, 169], dtype=uint8), array([147, 130, 125], dtype=uint8), array([140, 132, 131], dtype=uint8), array([130, 128, 148], dtype=uint8), array([129, 135, 131], dtype=uint8), array([108, 131, 135], dtype=uint8), array([134, 134, 131], dtype=uint8), array([135, 120, 107], dtype=uint8), array([126, 144, 152], dtype=uint8), array([132, 133, 131], dtype=uint8), array([135, 132, 133], dtype=uint8), array([144, 155, 131], dtype=uint8), array([113,  93,  85], dtype=uint8), array([149, 147, 136], dtype=uint8), array([103,  96,  87], dtype=uint8), array([150, 142, 124], dtype=uint8), array([111, 128, 123], dtype=uint8), array([108, 118, 109], dtype=uint8), array([85, 90, 68], dtype=uint8), array([134, 120, 126], dtype=uint8), array([107,  99,  95], dtype=uint8), array([160, 150, 130], dtype=uint8), array([137, 133, 136], dtype=uint8), array([147, 140, 101], dtype=uint8), array([129, 123, 118], dtype=uint8), array([144, 147, 150], dtype=uint8), array([ 98, 115, 125], dtype=uint8), array([128, 132, 124], dtype=uint8), array([154, 138, 126], dtype=uint8), array([113, 119, 107], dtype=uint8), array([139, 139, 140], dtype=uint8), array([139, 121, 106], dtype=uint8), array([ 98, 105, 113], dtype=uint8), array([156, 146, 135], dtype=uint8), array([153, 151, 150], dtype=uint8), array([62, 52, 34], dtype=uint8), array([154, 152, 144], dtype=uint8), array([113, 115, 117], dtype=uint8), array([139, 129, 124], dtype=uint8)]\n"
     ]
    }
   ],
   "source": [
    "import os\n",
    "import csv\n",
    "from PIL import Image as PImage\n",
    "import numpy as np\n",
    "from os import listdir\n",
    "import cv2\n",
    "import statistics\n",
    "import numpy as np\n",
    "from matplotlib import pyplot as plt\n",
    "list_new = []\n",
    "path = r\"C:/Users/Govind/Downloads/02-Govind/group02/test/pagoda/\"\n",
    "def loadImages(path):\n",
    "    # return array of images\n",
    "    imagesList = listdir(path)\n",
    "    loadedImages = []                              #reading image and creating image list\n",
    "    for image in imagesList:\n",
    "        img = PImage.open(path + image)\n",
    "        loadedImages.append(img)\n",
    "    return loadedImages\n",
    "images = loadImages(path)\n",
    "for img in images:\n",
    "    \n",
    "    image = np.asarray(img)\n",
    "    red,blue,green = cv2.split(image)         #splitting the image into RGB channel\n",
    "    \n",
    "    red_pixels = red.flatten()\n",
    "    \n",
    "    blue_pixels = blue.flatten()\n",
    "    \n",
    "    green_pixels = green.flatten()\n",
    "    \n",
    "    \n",
    "    \n",
    "    \n",
    "    #hist  = cv2.calcHist([red_pixels], [0], None, [8], [0,255])\n",
    "    hist,bins = np.histogram(red_pixels.ravel(),8,[0,255])         #calculating image feature in 8 bins\n",
    "    a = hist.flatten()\n",
    "    #aa = statistics.mean(red_pixels)\n",
    "    \n",
    "    \n",
    "    #hist  = cv2.calcHist([blue_pixels], [0], None, [8], [0,255])\n",
    "    hist,bins = np.histogram(blue_pixels.ravel(),8,[0,255])\n",
    "    \n",
    "    b = hist.flatten()\n",
    "    #bb = statistics.mean(blue_pixels)\n",
    "    \n",
    "    #hist  = cv2.calcHist([green_pixels], [0], None, [8], [0,255])\n",
    "    hist,bins = np.histogram(green_pixels.ravel(),8,[0,255])\n",
    "    c = hist.flatten()\n",
    "    #cc = statistics.mean(green_pixels)\n",
    "    \n",
    "    d=np.concatenate((aa,bb,cc), axis=None)     #concatenating the features\n",
    "    list_new.append(d)\n",
    "print(list_new)\n",
    "\n",
    "#np.savetxt('main1.csv',d,delimiter=',',fmt='%.4d')\n",
    "out = open('mean_test_pagoda.csv', 'w')\n",
    "for row in list_new:\n",
    "    for column in row:\n",
    "        out.write('%d;' % column)\n",
    "    out.write('\\n')\n",
    "out.close()"
   ]
  },
  {
   "cell_type": "code",
   "execution_count": null,
   "metadata": {},
   "outputs": [],
   "source": []
  }
 ],
 "metadata": {
  "kernelspec": {
   "display_name": "Python 3",
   "language": "python",
   "name": "python3"
  },
  "language_info": {
   "codemirror_mode": {
    "name": "ipython",
    "version": 3
   },
   "file_extension": ".py",
   "mimetype": "text/x-python",
   "name": "python",
   "nbconvert_exporter": "python",
   "pygments_lexer": "ipython3",
   "version": "3.6.5"
  }
 },
 "nbformat": 4,
 "nbformat_minor": 2
}
