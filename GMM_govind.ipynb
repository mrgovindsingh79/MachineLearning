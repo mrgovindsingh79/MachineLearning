{
 "cells": [
  {
   "cell_type": "code",
   "execution_count": 1,
   "metadata": {},
   "outputs": [],
   "source": [
    "import csv\n",
    "def loadCsv(filename):\n",
    "    lines = csv.reader(open(filename, \"rt\"))\n",
    "    dataset = list(lines)\n",
    "    for i in range(len(dataset)):\n",
    "        dataset[i] = [float(x) for x in dataset[i]]\n",
    "    return dataset"
   ]
  },
  {
   "cell_type": "code",
   "execution_count": 2,
   "metadata": {},
   "outputs": [],
   "source": [
    "import random\n",
    "def splitDataset(dataset, splitRatio):\n",
    "    trainSize = int(len(dataset) * splitRatio)\n",
    "    trainSet = []\n",
    "    copy = list(dataset)\n",
    "    while len(trainSet) < trainSize:\n",
    "        index = random.randrange(len(copy))\n",
    "        trainSet.append(copy.pop(index))\n",
    "    return [trainSet, copy]"
   ]
  },
  {
   "cell_type": "code",
   "execution_count": 3,
   "metadata": {},
   "outputs": [],
   "source": [
    "import math\n",
    "import numpy as np\n",
    "def mean(numbers):\n",
    "    numbers = np.array(numbers)\n",
    "    \n",
    "    f1 = numbers[:,0].astype(float)\n",
    "    f2 = numbers[:,1].astype(float)\n",
    "    #print(f1)\n",
    "    #print(f2)\n",
    "    xx = np.mean(f1)\n",
    "    yy = np.mean(f2)\n",
    "    \n",
    "    cov = np.cov(f1,f2)\n",
    "    mean = (xx,yy)\n",
    "    m = list(mean)\n",
    "    \n",
    "    return m,cov"
   ]
  },
  {
   "cell_type": "code",
   "execution_count": 58,
   "metadata": {},
   "outputs": [],
   "source": [
    "def update_mean_cov(data,r):\n",
    "    K = 3\n",
    "    wght = []\n",
    "    mean_ = []\n",
    "    aa = 0\n",
    "    N = len(data)\n",
    "    print(N)\n",
    "    data = np.array(data)\n",
    "    count = 0\n",
    "    \n",
    "    #update weights for liklihood calculation\n",
    "    for i in range(K):\n",
    "        aa = 0\n",
    "        for j in range(N):\n",
    "            aa += r[i][j]\n",
    "        wght.append(aa)\n",
    "    #print(wght)\n",
    "    #update mean \n",
    "    for i in range(2):\n",
    "        for j in range(N):\n",
    "            count += data[j][i] * r[i][j]\n",
    "        total = count/len(data)\n",
    "        mean_.append(total)\n",
    "    print(mean_)    \n",
    "    \n",
    "    return mean_ ,wght"
   ]
  },
  {
   "cell_type": "code",
   "execution_count": 59,
   "metadata": {},
   "outputs": [],
   "source": [
    "def summarize(dataset):\n",
    "    #for x in range(3):\n",
    "    #print(dataset,'dssd',len(dataset))\n",
    "    #summaries = [(mean(attribute), stdev(attribute)) for attribute in zip(*dataset)]\n",
    "    summaries = []\n",
    "    m = mean(dataset)\n",
    "    #cv = covm(dataset)\n",
    "    summaries.append(m)\n",
    "    #summaries.append(cv)\n",
    "    \n",
    "    #del summaries[-1]\n",
    "    #print(summaries)\n",
    "    return summaries"
   ]
  },
  {
   "cell_type": "code",
   "execution_count": 60,
   "metadata": {},
   "outputs": [],
   "source": [
    "def seperateBylabels(dataset,df):\n",
    "    datasets = {}\n",
    "    by_class = df.groupby('label')\n",
    "\n",
    "    for groups, data in by_class:\n",
    "        datasets[groups] = data\n",
    "        \n",
    "    #print(datasets)\n",
    "    return datasets"
   ]
  },
  {
   "cell_type": "code",
   "execution_count": 61,
   "metadata": {},
   "outputs": [],
   "source": [
    "def summarizeByClass(dataset,df):\n",
    "    separated = seperateBylabels(dataset,df)\n",
    "    #print(separated)\n",
    "    summaries = {}\n",
    "    for classValue, instances in separated.items():\n",
    "        summaries[classValue] = summarize(instances)\n",
    "    #print(summaries)\n",
    "    return summaries"
   ]
  },
  {
   "cell_type": "code",
   "execution_count": 62,
   "metadata": {},
   "outputs": [],
   "source": [
    "def divide_mean_cov(summaries):\n",
    "    mean_K = []\n",
    "    cov_K = []\n",
    "    for classValue, classSummaries in summaries.items():\n",
    "        for i in range(len(classSummaries)):\n",
    "            mean, cov = classSummaries[i]\n",
    "            #print(mean,cov,'\\n')\n",
    "            mean_K.append(mean)\n",
    "            cov_K.append(cov)\n",
    "    return mean_K,cov_K"
   ]
  },
  {
   "cell_type": "code",
   "execution_count": 63,
   "metadata": {},
   "outputs": [],
   "source": [
    "import math\n",
    "import operator\n",
    "import numpy as np\n",
    "def Normal(x, mean, cov):\n",
    "    #pp = np.array(x) - np.array(mean)\n",
    "    \n",
    "    #determinant of covariance matrix\n",
    "    det_cov = np.linalg.det(cov)\n",
    "    pp = list(map(operator.sub,x,mean)) \n",
    "    #print(x,mean)\n",
    "    #print('covariance',cov)\n",
    "    #print('x-mean',pp)\n",
    "    \n",
    "    \n",
    "    #inverse of the covariance matrix\n",
    "    inv_cov = np.linalg.inv(cov)\n",
    "    \n",
    "    pt = np.array(pp).reshape(2,1)\n",
    "    parta = np.dot(pp,inv_cov)\n",
    "    partb = np.dot(parta,pt)\n",
    "    part1 = math.exp(-1/2 * partb)\n",
    "    #print(part1)\n",
    "    \n",
    "    part2 = 2 * math.pi * math.sqrt(det_cov)\n",
    "    #print('part2',part2)\n",
    "    \n",
    "    gauss = part1/part2\n",
    "    \n",
    "    #print('transpose',pt)\n",
    "    #inv_cov = np.linalg.det(cov)\n",
    "    #print(gauss)\n",
    "    #print(parta)\n",
    "    #print\n",
    "    \n",
    "    return gauss"
   ]
  },
  {
   "cell_type": "code",
   "execution_count": 64,
   "metadata": {},
   "outputs": [],
   "source": [
    "def maximizeLLH(data, mean, cov,alpha):\n",
    "    liklihood = []\n",
    "    \n",
    "    data = np.array(data)\n",
    "    for i in range(len(data)):\n",
    "        temp = 0\n",
    "        for j in range(3):\n",
    "            mean_n = mean[j]\n",
    "            cov_n = cov[j]\n",
    "        #print(mean_n, cov_n)\n",
    "            result = alpha[j] * Normal(data[i], mean_n, cov_n)\n",
    "            temp = temp + result\n",
    "        temp1 = np.log(temp)\n",
    "        print(temp1)\n",
    "    return temp1"
   ]
  },
  {
   "cell_type": "code",
   "execution_count": 65,
   "metadata": {},
   "outputs": [],
   "source": [
    "def Estep(mean,cov,data,alpha,r):\n",
    "    K = 3\n",
    "    print('Estep')\n",
    "    s = np.zeros(len(data))\n",
    "    data = np.array(data)\n",
    "    for i in range(len(data)):\n",
    "        temp = np.zeros(K)\n",
    "        for j in range(3):\n",
    "            temp[j] = alpha[j] * Normal(data[i], mean[j], cov[j])\n",
    "            s[i] += temp[j]\n",
    "        for k in range(K):\n",
    "            r[k][i] = temp[k]/s[i]\n",
    "    return r,s"
   ]
  },
  {
   "cell_type": "code",
   "execution_count": 66,
   "metadata": {},
   "outputs": [],
   "source": [
    "def Mstep(mean,cov,data,alpha,r,s):\n",
    "    print(\"Enter M step.\")\n",
    "    N = len(data)\n",
    "    data = np.array(data)\n",
    "    K = 3\n",
    "    for k in range(K):\n",
    "        # Calculate alpha[k]\n",
    "        alpha[k] = np.sum(r[k]) / N\n",
    "        #print(alpha)\n",
    "        #calculate mean\n",
    "        total = np.zeros(2)\n",
    "        print(total)\n",
    "        for i in range(N):\n",
    "            #print(data[i])\n",
    "            #print(r[k][i])\n",
    "            total += r[k][i] * data[i]\n",
    "            print(total)\n",
    "        mean[k] = total / np.sum(r[k])\n",
    "        print(mean[k])"
   ]
  },
  {
   "cell_type": "code",
   "execution_count": 67,
   "metadata": {},
   "outputs": [],
   "source": [
    "def execute(mean,cov,data,alpha):\n",
    "    K = 3\n",
    "    r = np.zeros([K,len(data)])\n",
    "    #estimate(mean,cov,data)\n",
    "    #lld = maximizeLLH(data, mean, cov,alpha)\n",
    "    r,s = Estep(mean,cov,data,alpha,r)\n",
    "    mean_up,wght_up = update_mean_cov(data,r)\n",
    "    #print(r)\n",
    "    #Mstep(mean,cov,data,alpha,r,s)\n",
    "    "
   ]
  },
  {
   "cell_type": "code",
   "execution_count": 68,
   "metadata": {},
   "outputs": [],
   "source": [
    "from sklearn.cluster import KMeans\n",
    "def doKmeans(X, nclust):\n",
    "    model = KMeans(nclust)\n",
    "    model.fit(X)\n",
    "    return (model.labels_, model.cluster_centers_)"
   ]
  },
  {
   "cell_type": "code",
   "execution_count": 69,
   "metadata": {},
   "outputs": [
    {
     "name": "stdout",
     "output_type": "stream",
     "text": [
      "Size of trainingSet is  1005 and testing size is  495\n",
      "Estep\n",
      "1005\n",
      "[-1.6416529896384606, -0.986439314127832]\n"
     ]
    }
   ],
   "source": [
    "import numpy as np\n",
    "import pandas as pd\n",
    "\n",
    "def main():\n",
    "    alphas = [31/150, 85/150, 34/150]\n",
    "    K = 3\n",
    "    alpha = np.array(alphas)\n",
    "    filename = r'C:\\Users\\Govind\\Downloads\\02-Govind\\LS_Group02\\task_boundary.csv'\n",
    "    splitRatio = 0.67\n",
    "    dataset = loadCsv(filename)\n",
    "    trainingSet,testSet = splitDataset(dataset, splitRatio)\n",
    "    print('Size of trainingSet is ',len(trainingSet),'and testing size is ',len(testSet))\n",
    "    \n",
    "    \n",
    "    trainingSet = np.array(trainingSet)\n",
    "    \n",
    "    df = pd.DataFrame(trainingSet, columns = ['x', 'y','class'])\n",
    "    clust_labels, cent = doKmeans(trainingSet, 3)\n",
    "    \n",
    "    df['label'] = clust_labels\n",
    "    \n",
    "    train = []\n",
    "    for x in range (len(trainingSet)):\n",
    "        a = trainingSet[x][-1]\n",
    "        train.append(a)\n",
    "    \n",
    "    trainData = df.drop(['class'],axis = 1)\n",
    "    #print(trainData)\n",
    "    \n",
    "    \n",
    "    parameters = summarizeByClass(trainData,df)\n",
    "    #print(parameters)\n",
    "    mean,cov = divide_mean_cov(parameters)\n",
    "    #print(mean,cov,'\\n')\n",
    "    execute(mean,cov,trainData,alpha)\n",
    "    \n",
    "    \n",
    "main()"
   ]
  },
  {
   "cell_type": "code",
   "execution_count": null,
   "metadata": {},
   "outputs": [],
   "source": []
  },
  {
   "cell_type": "code",
   "execution_count": null,
   "metadata": {},
   "outputs": [],
   "source": []
  },
  {
   "cell_type": "code",
   "execution_count": null,
   "metadata": {},
   "outputs": [],
   "source": []
  }
 ],
 "metadata": {
  "kernelspec": {
   "display_name": "Python 3",
   "language": "python",
   "name": "python3"
  },
  "language_info": {
   "codemirror_mode": {
    "name": "ipython",
    "version": 3
   },
   "file_extension": ".py",
   "mimetype": "text/x-python",
   "name": "python",
   "nbconvert_exporter": "python",
   "pygments_lexer": "ipython3",
   "version": "3.6.5"
  }
 },
 "nbformat": 4,
 "nbformat_minor": 2
}
